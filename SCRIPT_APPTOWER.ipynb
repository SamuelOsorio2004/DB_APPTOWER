{
    "metadata": {
        "kernelspec": {
            "name": "SQL",
            "display_name": "SQL",
            "language": "sql"
        },
        "language_info": {
            "name": "sql",
            "version": ""
        }
    },
    "nbformat_minor": 2,
    "nbformat": 4,
    "cells": [
        {
            "cell_type": "markdown",
            "source": [
                "# **EMMANUEL TABARES**"
            ],
            "metadata": {
                "azdata_cell_guid": "9b9d9c5d-9030-41d9-9f82-cc112eaf9e9f"
            },
            "attachments": {}
        },
        {
            "cell_type": "markdown",
            "source": [
                "> ## **Espacios**"
            ],
            "metadata": {
                "azdata_cell_guid": "1e689056-28d7-4a7a-b840-1ea2273888b7"
            },
            "attachments": {}
        },
        {
            "cell_type": "code",
            "source": [
                "CREATE TABLE espacios\r\n",
                "\r\n",
                "(\r\n",
                "\r\n",
                "    id_espacio INT IDENTITY(1,1),\r\n",
                "\r\n",
                "    nombre_espacio VARCHAR(255) UNIQUE,\r\n",
                "\r\n",
                "    tipo_espacio VARCHAR(255) NOT NULL,\r\n",
                "\r\n",
                "    area FLOAT DEFAULT (NULL),\r\n",
                "\r\n",
                "    capacidad INT DEFAULT (NULL),\r\n",
                "\r\n",
                "    estado VARCHAR(20) DEFAULT ('ACTIVO') NOT NULL\r\n",
                "\r\n",
                "\r\n",
                "\r\n",
                "    CONSTRAINT PK_espacios PRIMARY KEY (id_espacio),\r\n",
                "\r\n",
                "    CONSTRAINT CK_nombre_espacio CHECK (nombre_espacio NOT LIKE '%[^a-zA-Z0-9]%'),\r\n",
                "\r\n",
                "    -- CONSTRAINT CK_tipo_espacio CHECK (tipo_espacio LIKE '%[a-zA-Z]%\\s%[a-zA-Z]%')\r\n",
                "\r\n",
                "    CONSTRAINT CK_area CHECK (area > 0),\r\n",
                "\r\n",
                "    CONSTRAINT CK_capacidad CHECK (capacidad > 0 ),\r\n",
                "\r\n",
                "    CONSTRAINT  CK_estado CHECK (estado in ('ACTIVO', 'INACTIVO'))\r\n",
                "\r\n",
                ")\r\n",
                "\r\n",
                ""
            ],
            "metadata": {
                "azdata_cell_guid": "f8d08cce-6642-45e5-b180-321580cf9968",
                "language": "sql"
            },
            "outputs": [],
            "execution_count": null
        },
        {
            "cell_type": "markdown",
            "source": [
                "> ## **Propietarios**"
            ],
            "metadata": {
                "azdata_cell_guid": "2ed93c5d-f5f4-4d03-b915-a6587f877c9e"
            },
            "attachments": {}
        },
        {
            "cell_type": "code",
            "source": [
                "/*\r\n",
                "> **Propietarios**\r\n",
                "*/\r\n",
                "\r\n",
                "CREATE TABLE propietarios\r\n",
                "\r\n",
                "(\r\n",
                "\r\n",
                "    id_propietario INT IDENTITY (1,1),\r\n",
                "\r\n",
                "    tipo_documento_propietario VARCHAR (20) NOT NULL,\r\n",
                "\r\n",
                "    numero_documento_propietario VARCHAR (15) NOT NULL,\r\n",
                "\r\n",
                "    nombre_propietario VARCHAR (255) NOT NULL,\r\n",
                "\r\n",
                "    apellido_propietario VARCHAR (255) NOT NULL,\r\n",
                "\r\n",
                "    correo_propietario VARCHAR (80) NOT NULL,\r\n",
                "\r\n",
                "    telefono_propietario VARCHAR (15),\r\n",
                "\r\n",
                "    estado_propietario VARCHAR(20) DEFAULT ('ACTIVO') NOT NULL\r\n",
                "\r\n",
                "    CONSTRAINT PK_id_propietario PRIMARY KEY (id_propietario),\r\n",
                "\r\n",
                "    CONSTRAINT CK_correo_propietario CHECK (correo_propietario LIKE '%[A-Za-z0-9]%@%[A-Za-z0-9]%.com' ),\r\n",
                "\r\n",
                "    CONSTRAINT CK_nombre_propietario CHECK (nombre_propietario NOT LIKE  '%[^A-Za-z]%'),\r\n",
                "\r\n",
                "    CONSTRAINT CK_apellido_propietario CHECK (apellido_propietario NOT LIKE '%[^A-Za-z]%'),\r\n",
                "\r\n",
                "    CONSTRAINT CK_tipo_documento_propietario CHECK (tipo_documento_propietario NOT LIKE '%[^A-Za-z]%'),\r\n",
                "\r\n",
                "    CONSTRAINT CK_telefono_propietario CHECK (telefono_propietario LIKE '[0-9]%[0-9]%[0-9]%[0-9]%[0-9]%[0-9]%[0-9]%[0-9]%[0-9]%[0-9]'),\r\n",
                "\r\n",
                "    CONSTRAINT CK_Documento CHECK (numero_documento_propietario LIKE '[0-9]%[0-9]%[0-9]%[0-9]%[0-9]%[0-9]%[0-9]%[0-9]%[0-9]'),\r\n",
                "\r\n",
                "    CONSTRAINT  CK_estado_propietario CHECK (estado_propietario in ('ACTIVO', 'INACTIVO'))\r\n",
                "\r\n",
                ");\t"
            ],
            "metadata": {
                "azdata_cell_guid": "e2e7a3f2-0f3f-4ba0-a0ec-570e81b8e6e9",
                "language": "sql"
            },
            "outputs": [],
            "execution_count": null
        },
        {
            "cell_type": "markdown",
            "source": [
                "> ## **Visitantes**"
            ],
            "metadata": {
                "language": "sql",
                "azdata_cell_guid": "7a537b9b-7d1e-4288-8749-4cd9e88ef302"
            },
            "attachments": {}
        },
        {
            "cell_type": "code",
            "source": [
                "\r\n",
                "\r\n",
                "/*\r\n",
                "> **Visitantes**\r\n",
                "*/\r\n",
                "\r\n",
                "CREATE TABLE visitantes\r\n",
                "\r\n",
                "(\r\n",
                "\r\n",
                "    id_visitante INT IDENTITY (1,1),\r\n",
                "\r\n",
                "    tipo_documento_visitante VARCHAR (20) NOT NULL,\r\n",
                "\r\n",
                "    numero_documento_visitante VARCHAR (15) NOT NULL,\r\n",
                "\r\n",
                "    nombre_visitante VARCHAR (255) NOT NULL,\r\n",
                "\r\n",
                "    apellido_visitante VARCHAR (255) NOT NULL,\r\n",
                "\r\n",
                "    correo_visitante VARCHAR (80) NOT NULL,\r\n",
                "\r\n",
                "    telefono_visitante VARCHAR (15),\r\n",
                "\r\n",
                "\r\n",
                "\r\n",
                "    edad_visitante INT NOT NULL,\r\n",
                "\r\n",
                "    genero_visitante VARCHAR (1) DEFAULT (NULL),\r\n",
                "\r\n",
                "\r\n",
                "\r\n",
                "    estado_visitante VARCHAR(20) DEFAULT ('ACTIVO') NOT NULL,\r\n",
                "\r\n",
                "\r\n",
                "\r\n",
                "\r\n",
                "\r\n",
                "    CONSTRAINT PK_id_visitante PRIMARY KEY (id_visitante),\r\n",
                "\r\n",
                "    CONSTRAINT CK_correo_visitante CHECK (correo_visitante LIKE '%[A-Za-z0-9]%@%[A-Za-z0-9]%.com' ),\r\n",
                "\r\n",
                "    CONSTRAINT CK_nombre_visitante CHECK (nombre_visitante NOT LIKE  '%[^A-Za-z]%'),\r\n",
                "\r\n",
                "    CONSTRAINT CK_apellido_visitante CHECK (apellido_visitante NOT LIKE '%[^A-Za-z]%'),\r\n",
                "\r\n",
                "    CONSTRAINT CK_tipo_documento_visitante CHECK (tipo_documento_visitante NOT LIKE '%[^A-Za-z]%'),\r\n",
                "\r\n",
                "    CONSTRAINT CK_telefono_visitante CHECK (telefono_visitante LIKE '[0-9]%[0-9]%[0-9]%[0-9]%[0-9]%[0-9]%[0-9]%[0-9]%[0-9]%[0-9]'),\r\n",
                "\r\n",
                "    CONSTRAINT CK_numero_documento_visitante CHECK (numero_documento_visitante LIKE '[0-9]%[0-9]%[0-9]%[0-9]%[0-9]%[0-9]%[0-9]%[0-9]%[0-9]'),\r\n",
                "\r\n",
                "    CONSTRAINT  CK_estado_visitante CHECK (estado_visitante in ('ACTIVO', 'INACTIVO')),\r\n",
                "\r\n",
                "\r\n",
                "\r\n",
                "    CONSTRAINT CK_edad_visitante CHECK (edad_visitante >= 0),\r\n",
                "\r\n",
                "    CONSTRAINT CK_genero_visitante CHECK (genero_visitante IN ('F', 'M', 'OTRO'))\r\n",
                "\r\n",
                "\r\n",
                "\r\n",
                "\r\n",
                "\r\n",
                ");\t\r\n",
                "\r\n",
                ""
            ],
            "metadata": {
                "azdata_cell_guid": "a241b0cb-f671-4261-8546-b697d370de50",
                "language": "sql",
                "tags": []
            },
            "outputs": [],
            "execution_count": null
        },
        {
            "cell_type": "markdown",
            "source": [
                "> ## **Visitas**"
            ],
            "metadata": {
                "azdata_cell_guid": "f09487d0-f346-424b-9481-e622434ecc5c"
            },
            "attachments": {}
        },
        {
            "cell_type": "code",
            "source": [
                "\r\n",
                "/*\r\n",
                "> **Visitas**\r\n",
                "*/\r\n",
                "\r\n",
                "CREATE TABLE visitas (\r\n",
                "\r\n",
                "\r\n",
                "\r\n",
                "    id_visita INT IDENTITY (1,1),\r\n",
                "\r\n",
                "    id_visitante INT NOT NULL,\r\n",
                "\r\n",
                "    id_espacio_visitar INT NOT NULL,\r\n",
                "\r\n",
                "    id_espacio_reservar INT NOT NULL,\r\n",
                "\r\n",
                "    fecha_visita DATETIME NOT NULL,\r\n",
                "\r\n",
                "    fecha_salida DATETIME,\r\n",
                "\r\n",
                "    estado_visita VARCHAR (255) DEFAULT ('PENDIENTE')\r\n",
                "\r\n",
                "\r\n",
                "\r\n",
                "    CONSTRAINT PK_visita PRIMARY KEY (id_visita),\r\n",
                "\r\n",
                "    CONSTRAINT PK_visitante FOREIGN KEY (id_visitante) REFERENCES visitantes(id_visitante),\r\n",
                "\r\n",
                "    CONSTRAINT PK_espacio_visitar FOREIGN KEY (id_espacio_visitar) REFERENCES espacios(id_espacio),\r\n",
                "\r\n",
                "    CONSTRAINT PK_espacio_reservar FOREIGN KEY (id_espacio_reservar) REFERENCES reservas(Id_Reserva),\r\n",
                "\r\n",
                "    CONSTRAINT CK_estado_visita CHECK (estado_visita IN ('PENDIENTE', 'TERMINADA', 'RESIVIDA'))\r\n",
                "\r\n",
                "\r\n",
                "\r\n",
                "\r\n",
                "\r\n",
                "\r\n",
                "\r\n",
                "\r\n",
                "\r\n",
                ")\r\n",
                ""
            ],
            "metadata": {
                "azdata_cell_guid": "a0350ec2-aa6f-4a11-a99e-5fa64bb27c9f",
                "language": "sql"
            },
            "outputs": [
                {
                    "output_type": "display_data",
                    "data": {
                        "text/html": "Commands completed successfully."
                    },
                    "metadata": {}
                },
                {
                    "output_type": "display_data",
                    "data": {
                        "text/html": "Total execution time: 00:00:00.018"
                    },
                    "metadata": {}
                }
            ],
            "execution_count": 5
        },
        {
            "cell_type": "markdown",
            "source": [
                "> ## **Residentes**"
            ],
            "metadata": {
                "azdata_cell_guid": "3835d790-f1f2-4cb1-acb5-d0f7fb7296ff"
            },
            "attachments": {}
        },
        {
            "cell_type": "code",
            "source": [
                "\r\n",
                "\r\n",
                "/*\r\n",
                "> **Residentes**\r\n",
                "*/\r\n",
                "\r\n",
                "CREATE TABLE residentes\r\n",
                "\r\n",
                "(\r\n",
                "\r\n",
                "    id_residente INT IDENTITY (1,1),\r\n",
                "\r\n",
                "    tipo_documento_residente VARCHAR (20) NOT NULL,\r\n",
                "\r\n",
                "    numero_documento_residente VARCHAR (15) NOT NULL,\r\n",
                "\r\n",
                "    nombre_residente VARCHAR (255) NOT NULL,\r\n",
                "\r\n",
                "    apellido_residente VARCHAR (255) NOT NULL,\r\n",
                "\r\n",
                "    correo_residente VARCHAR (80) NOT NULL,\r\n",
                "\r\n",
                "    telefono_residente VARCHAR (15),\r\n",
                "\r\n",
                "\r\n",
                "\r\n",
                "    edad_residente INT NOT NULL,\r\n",
                "\r\n",
                "    residencia_actual BIT DEFAULT (1) NOT NULL,\r\n",
                "\r\n",
                "    id_espacio INT NOT NULL,\r\n",
                "\r\n",
                "    tipo_residente VARCHAR (255) DEFAULT ('PROPIETARIO') NOT NULL,\r\n",
                "\r\n",
                "    fecha_inicio_residencia DATETIME NOT NULL,\r\n",
                "\r\n",
                "    fecha_fin_residencia DATETIME DEFAULT (NULL),\r\n",
                "\r\n",
                "\r\n",
                "\r\n",
                "\r\n",
                "\r\n",
                "    estado_residente VARCHAR(20) DEFAULT ('ACTIVO') NOT NULL\r\n",
                "\r\n",
                "\r\n",
                "\r\n",
                "    CONSTRAINT PK_id_residente PRIMARY KEY (id_residente),\r\n",
                "\r\n",
                "    CONSTRAINT CK_correo_residente CHECK (correo_residente LIKE '%[A-Za-z0-9]%@%[A-Za-z0-9]%.com' ),\r\n",
                "\r\n",
                "    CONSTRAINT CK_nombre_residente CHECK (nombre_residente NOT LIKE  '%[^A-Za-z]%'),\r\n",
                "\r\n",
                "    CONSTRAINT CK_apellido_residente CHECK (apellido_residente NOT LIKE '%[^A-Za-z]%'),\r\n",
                "\r\n",
                "    CONSTRAINT CK_tipo_documento_residente CHECK (tipo_documento_residente NOT LIKE '%[^A-Za-z]%'),\r\n",
                "\r\n",
                "    CONSTRAINT CK_telefono_residente CHECK (telefono_residente LIKE '[0-9]%[0-9]%[0-9]%[0-9]%[0-9]%[0-9]%[0-9]%[0-9]%[0-9]%[0-9]'),\r\n",
                "\r\n",
                "    CONSTRAINT CK_numero_documento_residente CHECK (numero_documento_residente LIKE '[0-9]%[0-9]%[0-9]%[0-9]%[0-9]%[0-9]%[0-9]%[0-9]%[0-9]'),\r\n",
                "\r\n",
                "    CONSTRAINT  CK_estado_residente CHECK (estado_residente in ('ACTIVO', 'INACTIVO')),\r\n",
                "\r\n",
                "\r\n",
                "\r\n",
                "    CONSTRAINT CK_edad_residente CHECK (edad_residente >= 0),\r\n",
                "\r\n",
                "    CONSTRAINT FK_espacio FOREIGN KEY (id_espacio) REFERENCES espacios(id_espacio),\r\n",
                "\r\n",
                "    CONSTRAINT CK_tipo_residente CHECK (tipo_residente IN ('PROPIETARIO', 'ARRENDATARIO', 'CONPAÑERO', 'FAMILIAR'))\r\n",
                "\r\n",
                "\r\n",
                "\r\n",
                "\r\n",
                "\r\n",
                ");\t\r\n",
                "\r\n",
                "\r\n",
                ""
            ],
            "metadata": {
                "azdata_cell_guid": "0514581a-3f92-4564-897b-7fe3075d86f6",
                "language": "sql"
            },
            "outputs": [],
            "execution_count": null
        },
        {
            "cell_type": "markdown",
            "source": [
                "> ## **Usuario\\_residente**"
            ],
            "metadata": {
                "azdata_cell_guid": "b0fa6819-7bd5-4e46-984d-b50e5732d452"
            },
            "attachments": {}
        },
        {
            "cell_type": "code",
            "source": [
                "CREATE TABLE usuarios_residentes (\r\n",
                "    id_usuario_residente INT IDENTITY(1,1),\r\n",
                "    id_usuario INT,\r\n",
                "    id_residente INT\r\n",
                "\r\n",
                "    CONSTRAINT PK_usuario_residente PRIMARY KEY (id_usuario_residente),\r\n",
                "    CONSTRAINT FK_usuario FOREIGN KEY (id_usuario) REFERENCES usuarios(id_usuario),\r\n",
                "    CONSTRAINT FK_residente FOREIGN KEY (id_residente) REFERENCES residentes (id_residente)\r\n",
                "\r\n",
                ")"
            ],
            "metadata": {
                "azdata_cell_guid": "bb31f9cc-78dd-47f2-8735-54606b3d5692",
                "language": "sql"
            },
            "outputs": [
                {
                    "output_type": "display_data",
                    "data": {
                        "text/html": "Commands completed successfully."
                    },
                    "metadata": {}
                },
                {
                    "output_type": "display_data",
                    "data": {
                        "text/html": "Total execution time: 00:00:00.009"
                    },
                    "metadata": {}
                }
            ],
            "execution_count": 8
        },
        {
            "cell_type": "markdown",
            "source": [
                "> ## **Vehiculo\\_residente**"
            ],
            "metadata": {
                "language": "sql",
                "azdata_cell_guid": "03cf5cae-4cef-4472-9423-a4025e1497f4"
            },
            "attachments": {}
        },
        {
            "cell_type": "code",
            "source": [
                "CREATE TABLE vehiculos_residentes (\r\n",
                "    id_vehiculo_residente INT IDENTITY(1,1),\r\n",
                "    id_vehiculo INT,\r\n",
                "    id_residente INT\r\n",
                "\r\n",
                "    CONSTRAINT PK_vehiculo_residente PRIMARY KEY (id_vehiculo_residente),\r\n",
                "    CONSTRAINT FK_vehiculo FOREIGN KEY (id_vehiculo) REFERENCES vehiculos(Id_Vehiculo),\r\n",
                "    CONSTRAINT FK_residente_vehiculo FOREIGN KEY (id_residente) REFERENCES residentes (id_residente)\r\n",
                "\r\n",
                ")"
            ],
            "metadata": {
                "language": "sql",
                "azdata_cell_guid": "94770711-5f56-427a-be90-b4e15b4cda7e",
                "tags": []
            },
            "outputs": [
                {
                    "output_type": "display_data",
                    "data": {
                        "text/html": "Commands completed successfully."
                    },
                    "metadata": {}
                },
                {
                    "output_type": "display_data",
                    "data": {
                        "text/html": "Total execution time: 00:00:00.008"
                    },
                    "metadata": {}
                }
            ],
            "execution_count": 12
        },
        {
            "cell_type": "markdown",
            "source": [
                "> ## **Vehiculos\\_visitantes**"
            ],
            "metadata": {
                "language": "sql",
                "azdata_cell_guid": "60109d2b-6a28-4b1d-b746-516de922ba0a"
            },
            "attachments": {}
        },
        {
            "cell_type": "code",
            "source": [
                "CREATE TABLE vehiculos_visitantes (\r\n",
                "    id_vehiculo_visitante INT IDENTITY(1,1),\r\n",
                "    id_vehiculo INT,\r\n",
                "    id_visitante INT\r\n",
                "\r\n",
                "    CONSTRAINT PK_vehiculo_visitante PRIMARY KEY (id_vehiculo_visitante),\r\n",
                "    CONSTRAINT FK_vehiculo_visitante FOREIGN KEY (id_vehiculo) REFERENCES vehiculos(Id_Vehiculo),\r\n",
                "    CONSTRAINT FK_visitante_vehiculo FOREIGN KEY (id_visitante) REFERENCES visitantes (id_visitante)\r\n",
                "\r\n",
                ")"
            ],
            "metadata": {
                "azdata_cell_guid": "17fe9a38-ffa6-48a4-a877-d7a5dc2da47b",
                "language": "sql"
            },
            "outputs": [
                {
                    "output_type": "display_data",
                    "data": {
                        "text/html": "Commands completed successfully."
                    },
                    "metadata": {}
                },
                {
                    "output_type": "display_data",
                    "data": {
                        "text/html": "Total execution time: 00:00:00.007"
                    },
                    "metadata": {}
                }
            ],
            "execution_count": 14
        },
        {
            "cell_type": "markdown",
            "source": [
                "> ## **Propiertarios\\_espacios**"
            ],
            "metadata": {
                "language": "sql",
                "azdata_cell_guid": "1f55c3a5-cbe8-4fba-af4b-dad91e1fa39b"
            },
            "attachments": {}
        },
        {
            "cell_type": "code",
            "source": [
                "CREATE TABLE propietarios_espacios (\r\n",
                "\r\n",
                "    id_propietario_espacio INT IDENTITY (1,1),\r\n",
                "    id_espacio INT,\r\n",
                "    id_propietario INT\r\n",
                "\r\n",
                "    CONSTRAINT PK_propietario_espacio PRIMARY KEY (id_propietario_espacio),\r\n",
                "    CONSTRAINT FK_espacio_propietario FOREIGN KEY (id_espacio) REFERENCES espacios(id_espacio),\r\n",
                "    CONSTRAINT FK_popietario_espacio FOREIGN KEY (id_propietario) REFERENCES propietarios(id_propietario)\r\n",
                ")"
            ],
            "metadata": {
                "language": "sql",
                "azdata_cell_guid": "bc6a65e3-91ec-475e-8996-394f6abb0ce2"
            },
            "outputs": [
                {
                    "output_type": "display_data",
                    "data": {
                        "text/html": "Commands completed successfully."
                    },
                    "metadata": {}
                },
                {
                    "output_type": "display_data",
                    "data": {
                        "text/html": "Total execution time: 00:00:00.016"
                    },
                    "metadata": {}
                }
            ],
            "execution_count": 15
        },
        {
            "cell_type": "markdown",
            "source": [
                "# **SAMUEL OSOARIO**"
            ],
            "metadata": {
                "azdata_cell_guid": "50d1fda2-d263-4a8b-b4cb-42972f8edcb5"
            },
            "attachments": {}
        },
        {
            "cell_type": "code",
            "source": [
                "create table agenda\r\n",
                "\r\n",
                "(\r\n",
                "\r\n",
                "    Id_Agenda int IDENTITY(1,1),\r\n",
                "\r\n",
                "    Fecha_Inicio datetime not null,\r\n",
                "\r\n",
                "    Fecha_Final datetime not null,\r\n",
                "\r\n",
                "    constraint PK_Agenda primary key (Id_Agenda)\r\n",
                "\r\n",
                ");"
            ],
            "metadata": {
                "azdata_cell_guid": "e7140e7f-f742-46ac-ba18-b339224d4542",
                "language": "sql"
            },
            "outputs": [],
            "execution_count": null
        },
        {
            "cell_type": "code",
            "source": [
                "create table reservas\r\n",
                "\r\n",
                "(\r\n",
                "\r\n",
                "    Id_Reserva int IDENTITY(1,1),\r\n",
                "\r\n",
                "    Tipo_Reserva varchar(40) not null,\r\n",
                "\r\n",
                "    Fecha_Reserva int not null,\r\n",
                "\r\n",
                "    Espacio_Reserva varchar(40) not null,\r\n",
                "\r\n",
                "    Cantidad_Personas int not null,\r\n",
                "\r\n",
                "    constraint PK_Reserva primary key (Id_Reserva),\r\n",
                "\r\n",
                "    constraint FK_Reserva foreign key (Fecha_Reserva) references agenda(Id_Agenda)\r\n",
                "\r\n",
                ");"
            ],
            "metadata": {
                "language": "sql",
                "azdata_cell_guid": "ff824c33-80c2-4954-a528-c88b221891ba"
            },
            "outputs": [],
            "execution_count": null
        },
        {
            "cell_type": "code",
            "source": [
                "create table vehiculos\r\n",
                "\r\n",
                "(\r\n",
                "\r\n",
                "    Id_Vehiculo int IDENTITY(1,1),\r\n",
                "\r\n",
                "    Placa varchar(10) NOT NULL,\r\n",
                "\r\n",
                "    Tipo_Usuario_Vehiculo int NOT NULL,\r\n",
                "\r\n",
                "    Nombre_Propietario_Vehiculo int NOT NULL,\r\n",
                "\r\n",
                "    constraint UC_Placa UNIQUE (Placa),\r\n",
                "\r\n",
                "    constraint PK_Vehiculos primary key (Id_Vehiculo)\r\n",
                "\r\n",
                ");"
            ],
            "metadata": {
                "language": "sql",
                "azdata_cell_guid": "e66732a3-8290-4494-b6a7-bd564626bfb2"
            },
            "outputs": [],
            "execution_count": null
        },
        {
            "cell_type": "code",
            "source": [
                "\r\n",
                "create table reservas_vehiculo\r\n",
                "\r\n",
                "(\r\n",
                "\r\n",
                "    Id_Vehiculo int,\r\n",
                "\r\n",
                "    Id_Reserva int,\r\n",
                "\r\n",
                "    constraint FK_Reserva_Vehiculo foreign key (Id_Reserva) references reservas(Id_Reserva),\r\n",
                "\r\n",
                "    constraint PK_Reserva_Vehiculo primary key (Id_Vehiculo,Id_Reserva)\r\n",
                "\r\n",
                ");"
            ],
            "metadata": {
                "language": "sql",
                "azdata_cell_guid": "245925ee-f488-4d92-b846-2a0124d4091a"
            },
            "outputs": [],
            "execution_count": null
        },
        {
            "cell_type": "code",
            "source": [
                "alter table agenda add constraint CHK_agenda check (Fecha_Inicio < Fecha_Final);\r\n",
                "\r\n",
                "alter table reservas add constraint CHK_reservas  check ((Tipo_Reserva like 'Salon Social' or Tipo_Reserva like 'Zonas Humedas' or Tipo_Reserva like 'Parqueador')\r\n",
                "\r\n",
                "and (Espacio_Reserva like 'Salon Social' or Espacio_Reserva like 'Sauna' or Espacio_Reserva like 'Piscina' or Espacio_Reserva like 'Parqueadero') and\r\n",
                "\r\n",
                "Cantidad_Personas > 1);\r\n",
                "\r\n",
                "alter table vehiculos add constraint CHK_vehiculo check (Placa like '[a-Z]{3}-[0-9]{3]' or Placa like '[a-Z]{3]-[0-9]{2}[a-Z]');"
            ],
            "metadata": {
                "language": "sql",
                "azdata_cell_guid": "5492014b-81de-4d89-9397-67cfdbc76441"
            },
            "outputs": [],
            "execution_count": null
        },
        {
            "cell_type": "markdown",
            "source": [
                "# **DANIEL RIVERA**"
            ],
            "metadata": {
                "azdata_cell_guid": "f66d111d-0d96-4c47-86c8-7f31b42a1ba2"
            },
            "attachments": {}
        },
        {
            "cell_type": "code",
            "source": [
                "Create table cuentaCobros (\r\n",
                "\r\n",
                "\tid_cuentaCobro int identity (1,1) not null,\r\n",
                "\r\n",
                "\tnum_cuentaCobro int not null,\r\n",
                "\r\n",
                "\tid_espacio int not null,\r\n",
                "\r\n",
                "\tid_propietario int not null,\r\n",
                "\r\n",
                "\tfecha_creacion date not null default getdate(),\r\n",
                "\r\n",
                "\tfecha_limite date not null,\r\n",
                "\r\n",
                "\tsubtotal decimal(10,2) not null,\r\n",
                "\r\n",
                "\tcuenta_banco varchar(20) not null,\r\n",
                "\r\n",
                "\ttotal decimal(10,2) not null,\r\n",
                "\r\n",
                "\testado varchar(9) not null default 'Pendiente',\r\n",
                "\r\n",
                "\tconstraint UC_cuentaCobro Unique (num_cuentaCobro),\r\n",
                "\r\n",
                "\tconstraint PK_cuentaCobro Primary key (id_cuentaCobro),\r\n",
                "\r\n",
                "\tconstraint CHK_cuenta_banco Check (cuenta_banco like '%[0-9]$')\r\n",
                "\r\n",
                ");"
            ],
            "metadata": {
                "azdata_cell_guid": "d158d4df-d0b3-4955-96dc-713ea4ddef18",
                "language": "sql"
            },
            "outputs": [],
            "execution_count": null
        },
        {
            "cell_type": "code",
            "source": [
                "create table cobros (\r\n",
                "\r\n",
                "\tid_cobro int identity (1,1) not null,\r\n",
                "\r\n",
                "\ttipo_cobro varchar(40) not null,\r\n",
                "\r\n",
                "\tmotivo varchar(40) not null,\r\n",
                "\r\n",
                "\tdescripcion varchar(100) not null,\r\n",
                "\r\n",
                "\tvalor decimal(10,2) not null,\r\n",
                "\r\n",
                "\testado varchar(10) not null default 'activo',\r\n",
                "\r\n",
                "\tconstraint PK_id_cobro primary key (id_cobro),\r\n",
                "\r\n",
                "\tconstraint CHK_tipoCobro Check (tipo_cobro like '%[ a-zA-Z]$'),\r\n",
                "\r\n",
                "\tconstraint CHK_estado Check (estado like '(activo|inactivo)')\r\n",
                "\r\n",
                ");"
            ],
            "metadata": {
                "language": "sql",
                "azdata_cell_guid": "5a33deef-ebe5-4c99-89ed-502fefc82e1b"
            },
            "outputs": [],
            "execution_count": null
        },
        {
            "cell_type": "code",
            "source": [
                "create table Detalles_cuentaCobros(\r\n",
                "\r\n",
                "\tid_Detalle_cuentaCobro int identity (1,1) not null,\r\n",
                "\r\n",
                "\tid_cuentaCobro int not null,\r\n",
                "\r\n",
                "\tid_cobro int not null,\r\n",
                "\r\n",
                "\tcuota varchar(5) not null,\r\n",
                "\r\n",
                "\tconstraint PK_id_Detalle_cuentaCobro primary key (id_Detalle_cuentaCobro),\r\n",
                "\r\n",
                "\tconstraint FK_id_cuentaCobro FOREIGN KEY (id_cuentaCobro) references cuentaCobros(id_cuentaCobro),\r\n",
                "\r\n",
                "\tconstraint FK_id_cobro foreign key (id_cobro) references Cobros(id_cobro),\r\n",
                "\r\n",
                "\tconstraint CHK_cuota check (cuota like '[0-9]{1,2}[/][0-9]{1,2}')\r\n",
                "\r\n",
                ");"
            ],
            "metadata": {
                "language": "sql",
                "azdata_cell_guid": "ba4b76d4-a998-4095-84a1-9b319ccafb74"
            },
            "outputs": [],
            "execution_count": null
        },
        {
            "cell_type": "markdown",
            "source": [
                "# **ALEJANDRA**"
            ],
            "metadata": {
                "language": "sql",
                "azdata_cell_guid": "b2eda977-e757-4177-bd55-e13f0df68806"
            },
            "attachments": {}
        },
        {
            "cell_type": "code",
            "source": [
                "Create table Roles\r\n",
                "\r\n",
                "(\r\n",
                "\r\n",
                "    Id_Rol int identity (1,1),\r\n",
                "\r\n",
                "    Nombre_Rol varchar (30),\r\n",
                "\r\n",
                "    Descripcion varchar (255),\r\n",
                "\r\n",
                "    Estado bit,\r\n",
                "\r\n",
                "    constraint Pk_IdRol primary key (Id_Rol),\r\n",
                "\r\n",
                "    constraint CHK_NombreRol Check (Nombre_Rol not like '%[^A-Za-z]%'),\r\n",
                "\r\n",
                "    constraint CHK_DescripcionRol check (Descripcion not like '%[^A-Za-z]\\s%'),\r\n",
                "\r\n",
                ");"
            ],
            "metadata": {
                "language": "sql",
                "azdata_cell_guid": "a21672da-8d96-4840-90e1-2c7aaa0b6d58"
            },
            "outputs": [],
            "execution_count": null
        },
        {
            "cell_type": "code",
            "source": [
                "Create table usuarios\r\n",
                "\r\n",
                "(\r\n",
                "\r\n",
                "    Id_Usuario int identity (1,1),\r\n",
                "\r\n",
                "    Nombre varchar (50),\r\n",
                "\r\n",
                "    Apellido varchar (50),\r\n",
                "\r\n",
                "    Id_Rol int,\r\n",
                "\r\n",
                "    Tipo_documento varchar (20),\r\n",
                "\r\n",
                "    Documento varchar (15),\r\n",
                "\r\n",
                "    Correo varchar (80),\r\n",
                "\r\n",
                "    Telefono varchar (15),\r\n",
                "\r\n",
                "    Contrasena varchar (10),\r\n",
                "\r\n",
                "    constraint Pk_IdUsuario Primary key (Id_usuario),\r\n",
                "\r\n",
                "    constraint CHK_Correo check (Correo Like '%[A-Za-z0-9]%@%[A-Za-z0-9]%.com' ),\r\n",
                "\r\n",
                "    constraint CHK_Nombre Check (Nombre not like '%[^A-Za-z]%'),\r\n",
                "\r\n",
                "    constraint CHK_Apellido check (Apellido not like '%[^A-Za-z]%'),\r\n",
                "\r\n",
                "    constraint CHK_Tipo\tcheck (Tipo_documento not like '%[^A-Za-z]%'),\r\n",
                "\r\n",
                "    constraint CHK_Telefono check (Telefono LIKE '[0-9]%[0-9]%[0-9]%[0-9]%[0-9]%[0-9]%[0-9]%[0-9]%[0-9]%[0-9]'),\r\n",
                "\r\n",
                "    constraint CHK_Documento check (Documento like '[0-9]%[0-9]%[0-9]%[0-9]%[0-9]%[0-9]%[0-9]%[0-9]%[0-9]'),\r\n",
                "\r\n",
                "    constraint CHK_Contrasena check (Contrasena like '%[A-Za-z0-9]%%[A-Za-z0-9]%%[A-Za-z0-9]%%[A-Za-z0-9]%%[A-Za-z0-9]%%[A-Za-z0-9]%%[A-Za-z0-9]%%[A-Za-z0-9]'),\r\n",
                "\r\n",
                "    constraint FK_IdRol FOREIGN KEY (Id_Rol) References Roles(Id_Rol)\r\n",
                "\r\n",
                ");"
            ],
            "metadata": {
                "language": "sql",
                "azdata_cell_guid": "0ae3a26d-8c8d-4162-801d-6270a3842628"
            },
            "outputs": [],
            "execution_count": null
        },
        {
            "cell_type": "code",
            "source": [
                "\r\n",
                "\r\n",
                "create table Vigilante\r\n",
                "\r\n",
                "(\r\n",
                "\r\n",
                "    Id_Vigilante int identity (1,1),\r\n",
                "\r\n",
                "    Nombre_Vigilante varchar (50),\r\n",
                "\r\n",
                "    Tipo_documento varchar (20),\r\n",
                "\r\n",
                "    Documento varchar (15),\r\n",
                "\r\n",
                "    Telefono varchar (15),\r\n",
                "\r\n",
                "    Edad varchar (3),\r\n",
                "\r\n",
                "    Estado bit,\r\n",
                "\r\n",
                "    constraint Pk_IdVigilante primary key (Id_Vigilante),\r\n",
                "\r\n",
                "    constraint CHK_NombreVigilante check (Nombre_Vigilante not like '%[^A-Za-z]\\s%'),\r\n",
                "\r\n",
                "    constraint CHK_Tipod check (Tipo_documento not like '%[^A-Za-z]%'),\r\n",
                "\r\n",
                "    constraint CHK_Document check (Documento like '[0-9]%[0-9]%[0-9]%[0-9]%[0-9]%[0-9]%[0-9]%[0-9]%[0-9]'),\r\n",
                "\r\n",
                "    constraint CHK_Telefonovig check (Telefono LIKE '[0-9]%[0-9]%[0-9]%[0-9]%[0-9]%[0-9]%[0-9]%[0-9]%[0-9]%[0-9]'),\r\n",
                "\r\n",
                "    constraint CHK_edad check (Edad like '[0-9]%[0-9]')\r\n",
                "\r\n",
                ");"
            ],
            "metadata": {
                "language": "sql",
                "azdata_cell_guid": "153a946d-69bd-4b68-8408-3c88df1e9440"
            },
            "outputs": [],
            "execution_count": null
        },
        {
            "cell_type": "code",
            "source": [
                "create table Permisos(\r\n",
                "\tId_permiso int identity (1,1),\r\n",
                "\tPermiso varchar (30)\r\n",
                "\tconstraint PK_IdPermiso primary key (Id_permiso),\r\n",
                "\tconstraint CHK_NombreP check (Permiso not like '%[^A-Za-z]/s%')\r\n",
                ");\r\n",
                ""
            ],
            "metadata": {
                "language": "sql",
                "azdata_cell_guid": "3121aada-e396-4fbf-8cf5-34295dc40ef7"
            },
            "outputs": [],
            "execution_count": null
        }
    ]
}